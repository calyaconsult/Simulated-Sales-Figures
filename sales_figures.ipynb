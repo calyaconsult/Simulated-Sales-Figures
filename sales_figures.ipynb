{
 "cells": [
  {
   "cell_type": "code",
   "execution_count": 1,
   "metadata": {},
   "outputs": [],
   "source": [
    "import random\n",
    "import functools\n",
    "import json"
   ]
  },
  {
   "cell_type": "markdown",
   "metadata": {},
   "source": [
    "Define a maximum value"
   ]
  },
  {
   "cell_type": "code",
   "execution_count": 2,
   "metadata": {},
   "outputs": [],
   "source": [
    "max_val = 5000"
   ]
  },
  {
   "cell_type": "markdown",
   "metadata": {},
   "source": [
    "Create a list of random values by multiplying each member of the list [1,...,12] with a random number between 0 and max_val\n",
    "Then shuffle the list"
   ]
  },
  {
   "cell_type": "code",
   "execution_count": 3,
   "metadata": {},
   "outputs": [],
   "source": [
    "my_list = list(map(lambda x: x*random.randrange(0,max_val),list(range(1,13))))\n",
    "random.shuffle(my_list)"
   ]
  },
  {
   "cell_type": "markdown",
   "metadata": {},
   "source": [
    "Assign each member of the list to a variable"
   ]
  },
  {
   "cell_type": "code",
   "execution_count": 4,
   "metadata": {},
   "outputs": [],
   "source": [
    "(sweets,books,beauty,perfume,jewellery,groceries,toys,clothing,coupons,cddvd,electronics,others) = my_list"
   ]
  },
  {
   "cell_type": "markdown",
   "metadata": {},
   "source": [
    "Calculate the sum of the members of the list"
   ]
  },
  {
   "cell_type": "code",
   "execution_count": 5,
   "metadata": {},
   "outputs": [],
   "source": [
    "grandtotal = functools.reduce(lambda a, b: a+b, my_list)"
   ]
  },
  {
   "cell_type": "markdown",
   "metadata": {},
   "source": [
    "Specify the date to which the values belong. In the futur this date will be 'today' or 'yesterday'."
   ]
  },
  {
   "cell_type": "code",
   "execution_count": 6,
   "metadata": {},
   "outputs": [],
   "source": [
    "datum = '21. Jan'"
   ]
  },
  {
   "cell_type": "markdown",
   "metadata": {},
   "source": [
    "Build a JSON object and load the data"
   ]
  },
  {
   "cell_type": "code",
   "execution_count": 7,
   "metadata": {},
   "outputs": [],
   "source": [
    "obj = json.loads('{'+str('\"Datum\": \"{}\", \"Tag\": \"<tbd>\", \"S\\u00fcsswaren\": \"{}\", \"B\\u00fccher\": \"{}\", \"Beauty\": \"{}\", \"Parfum\": \"{}\", \"Schmuck\": \"{}\", \"Lebensmittel\": \"{}\", \"Spielzeug\": \"{}\", \"Kleidung\": \"{}\", \"Gutscheine\": \"{}\", \"CD-DVD\": \"{}\", \"Elektronik\": \"{}\", \"Sonstige\": \"{}\", \"Grand Total\": \"{}\"').format(datum,sweets,books,beauty,perfume,jewellery,groceries,toys,clothing,coupons,cddvd,electronics,others,grandtotal)+'}')\n"
   ]
  },
  {
   "cell_type": "markdown",
   "metadata": {},
   "source": [
    "Read previously generated data from file"
   ]
  },
  {
   "cell_type": "code",
   "execution_count": 12,
   "metadata": {},
   "outputs": [],
   "source": [
    "with open('./daily_kpis.json') as json_file:\n",
    "    data = json.load(json_file)"
   ]
  },
  {
   "cell_type": "markdown",
   "metadata": {},
   "source": [
    "Update day number (\"Tag\")"
   ]
  },
  {
   "cell_type": "code",
   "execution_count": 13,
   "metadata": {},
   "outputs": [],
   "source": [
    "obj[\"Tag\"] = str(len(data))"
   ]
  },
  {
   "cell_type": "markdown",
   "metadata": {},
   "source": [
    "Append generated data to previous data"
   ]
  },
  {
   "cell_type": "code",
   "execution_count": 14,
   "metadata": {},
   "outputs": [],
   "source": [
    "data += [obj]"
   ]
  },
  {
   "cell_type": "code",
   "execution_count": 15,
   "metadata": {},
   "outputs": [
    {
     "name": "stdout",
     "output_type": "stream",
     "text": [
      "[{\"Datum\": \"24. Dez\", \"Tag\": \"0\", \"S\\u00fcsswaren\": \"5606\", \"B\\u00fccher\": \"3485\", \"Beauty\": \"3184\", \"Parfum\": \"1075\", \"Schmuck\": \"11249\", \"Lebensmittel\": \"5682\", \"Spielzeug\": \"4450\", \"Kleidung\": \"0\", \"Gutscheine\": \"0\", \"CD-DVD\": \"0\", \"Elektronik\": \"0\", \"Sonstige\": \"0\", \"Grand Total\": \"34731\"}, {\"Datum\": \"25. Dez\", \"Tag\": \"1\", \"S\\u00fcsswaren\": \"8698\", \"B\\u00fccher\": \"4149\", \"Beauty\": \"6327\", \"Parfum\": \"8301\", \"Schmuck\": \"4019\", \"Lebensmittel\": \"5663\", \"Spielzeug\": \"13285\", \"Kleidung\": \"7905\", \"Gutscheine\": \"2703\", \"CD-DVD\": \"5040\", \"Elektronik\": \"6577\", \"Sonstige\": \"4447\", \"Grand Total\": \"77114\"}, {\"Datum\": \"26. Dez\", \"Tag\": \"2\", \"S\\u00fcsswaren\": \"9069\", \"B\\u00fccher\": \"4221\", \"Beauty\": \"9010\", \"Parfum\": \"8293\", \"Schmuck\": \"4505\", \"Lebensmittel\": \"9086\", \"Spielzeug\": \"6049\", \"Kleidung\": \"3552\", \"Gutscheine\": \"5363\", \"CD-DVD\": \"2939\", \"Elektronik\": \"8655\", \"Sonstige\": \"3496\", \"Grand Total\": \"74238\"}, {\"Datum\": \"27. Dez\", \"Tag\": \"3\", \"S\\u00fcsswaren\": \"9989\", \"B\\u00fccher\": \"6622\", \"Beauty\": \"6648\", \"Parfum\": \"10330\", \"Schmuck\": \"8157\", \"Lebensmittel\": \"7907\", \"Spielzeug\": \"9790\", \"Kleidung\": \"6342\", \"Gutscheine\": \"4440\", \"CD-DVD\": \"5413\", \"Elektronik\": \"8580\", \"Sonstige\": \"5322\", \"Grand Total\": \"89540\"}, {\"Datum\": \"28. Dez\", \"Tag\": \"4\", \"S\\u00fcsswaren\": \"4624\", \"B\\u00fccher\": \"7654\", \"Beauty\": \"6523\", \"Parfum\": \"7806\", \"Schmuck\": \"5770\", \"Lebensmittel\": \"10977\", \"Spielzeug\": \"4810\", \"Kleidung\": \"4676\", \"Gutscheine\": \"2679\", \"CD-DVD\": \"6542\", \"Elektronik\": \"10891\", \"Sonstige\": \"5960\", \"Grand Total\": \"78912\"}, {\"Datum\": \"29. Dez\", \"Tag\": \"5\", \"S\\u00fcsswaren\": \"4992\", \"B\\u00fccher\": \"4429\", \"Beauty\": \"3115\", \"Parfum\": \"4747\", \"Schmuck\": \"6968\", \"Lebensmittel\": \"5909\", \"Spielzeug\": \"13559\", \"Kleidung\": \"6217\", \"Gutscheine\": \"3687\", \"CD-DVD\": \"5195\", \"Elektronik\": \"4092\", \"Sonstige\": \"10091\", \"Grand Total\": \"73001\"}, {\"Datum\": \"30. Dez\", \"Tag\": \"6\", \"S\\u00fcsswaren\": \"6010\", \"B\\u00fccher\": \"6148\", \"Beauty\": \"3977\", \"Parfum\": \"2839\", \"Schmuck\": \"3545\", \"Lebensmittel\": \"7579\", \"Spielzeug\": \"9917\", \"Kleidung\": \"7574\", \"Gutscheine\": \"2920\", \"CD-DVD\": \"2351\", \"Elektronik\": \"9378\", \"Sonstige\": \"5866\", \"Grand Total\": \"68104\"}, {\"Datum\": \"31. Dez\", \"Tag\": \"7\", \"S\\u00fcsswaren\": \"4186\", \"B\\u00fccher\": \"5623\", \"Beauty\": \"1770\", \"Parfum\": \"2389\", \"Schmuck\": \"6176\", \"Lebensmittel\": \"6858\", \"Spielzeug\": \"8496\", \"Kleidung\": \"13618\", \"Gutscheine\": \"6276\", \"CD-DVD\": \"12708\", \"Elektronik\": \"4734\", \"Sonstige\": \"11083\", \"Grand Total\": \"83917\"}, {\"Datum\": \"01. Jan\", \"Tag\": \"8\", \"S\\u00fcsswaren\": \"8157\", \"B\\u00fccher\": \"8896\", \"Beauty\": \"6141\", \"Parfum\": \"5535\", \"Schmuck\": \"9072\", \"Lebensmittel\": \"8478\", \"Spielzeug\": \"6923\", \"Kleidung\": \"3168\", \"Gutscheine\": \"2634\", \"CD-DVD\": \"5617\", \"Elektronik\": \"6162\", \"Sonstige\": \"5648\", \"Grand Total\": \"76431\"}, {\"Datum\": \"02. Jan\", \"Tag\": \"9\", \"S\\u00fcsswaren\": \"8197\", \"B\\u00fccher\": \"965\", \"Beauty\": \"7323\", \"Parfum\": \"8303\", \"Schmuck\": \"6638\", \"Lebensmittel\": \"2323\", \"Spielzeug\": \"9068\", \"Kleidung\": \"4058\", \"Gutscheine\": \"5222\", \"CD-DVD\": \"5389\", \"Elektronik\": \"7938\", \"Sonstige\": \"3806\", \"Grand Total\": \"69230\"}, {\"Datum\": \"03. Jan\", \"Tag\": \"10\", \"S\\u00fcsswaren\": \"4598\", \"B\\u00fccher\": \"8311\", \"Beauty\": \"9243\", \"Parfum\": \"6089\", \"Schmuck\": \"4557\", \"Lebensmittel\": \"4900\", \"Spielzeug\": \"5839\", \"Kleidung\": \"7015\", \"Gutscheine\": \"8148\", \"CD-DVD\": \"2640\", \"Elektronik\": \"7281\", \"Sonstige\": \"8440\", \"Grand Total\": \"77061\"}, {\"Datum\": \"04. Jan\", \"Tag\": \"11\", \"S\\u00fcsswaren\": \"5703\", \"B\\u00fccher\": \"2227\", \"Beauty\": \"11244\", \"Parfum\": \"5980\", \"Schmuck\": \"9620\", \"Lebensmittel\": \"4498\", \"Spielzeug\": \"2075\", \"Kleidung\": \"6639\", \"Gutscheine\": \"4688\", \"CD-DVD\": \"6795\", \"Elektronik\": \"5808\", \"Sonstige\": \"10465\", \"Grand Total\": \"75742\"}, {\"Datum\": \"05. Jan\", \"Tag\": \"12\", \"S\\u00fcsswaren\": \"5529\", \"B\\u00fccher\": \"10340\", \"Beauty\": \"5009\", \"Parfum\": \"4939\", \"Schmuck\": \"6187\", \"Lebensmittel\": \"5602\", \"Spielzeug\": \"4787\", \"Kleidung\": \"4292\", \"Gutscheine\": \"3121\", \"CD-DVD\": \"6024\", \"Elektronik\": \"10312\", \"Sonstige\": \"6480\", \"Grand Total\": \"72622\"}, {\"Datum\": \"06. Jan\", \"Tag\": \"13\", \"S\\u00fcsswaren\": \"8211\", \"B\\u00fccher\": \"4247\", \"Beauty\": \"4643\", \"Parfum\": \"8922\", \"Schmuck\": \"9191\", \"Lebensmittel\": \"5033\", \"Spielzeug\": \"10060\", \"Kleidung\": \"4758\", \"Gutscheine\": \"8044\", \"CD-DVD\": \"6066\", \"Elektronik\": \"6279\", \"Sonstige\": \"7979\", \"Grand Total\": \"83433\"}, {\"Datum\": \"07. Jan\", \"Tag\": \"14\", \"S\\u00fcsswaren\": \"5610\", \"B\\u00fccher\": \"3079\", \"Beauty\": \"2100\", \"Parfum\": \"2776\", \"Schmuck\": \"4336\", \"Lebensmittel\": \"8364\", \"Spielzeug\": \"5031\", \"Kleidung\": \"7326\", \"Gutscheine\": \"6081\", \"CD-DVD\": \"6255\", \"Elektronik\": \"3456\", \"Sonstige\": \"7828\", \"Grand Total\": \"62242\"}, {\"Datum\": \"08. Jan\", \"Tag\": \"15\", \"S\\u00fcsswaren\": \"1869\", \"B\\u00fccher\": \"1549\", \"Beauty\": \"8113\", \"Parfum\": \"8675\", \"Schmuck\": \"4639\", \"Lebensmittel\": \"9849\", \"Spielzeug\": \"3685\", \"Kleidung\": \"6913\", \"Gutscheine\": \"2323\", \"CD-DVD\": \"4949\", \"Elektronik\": \"4843\", \"Sonstige\": \"9185\", \"Grand Total\": \"66592\"}, {\"Datum\": \"09. Jan\", \"Tag\": \"16\", \"S\\u00fcsswaren\": \"9090\", \"B\\u00fccher\": \"3442\", \"Beauty\": \"5080\", \"Parfum\": \"6128\", \"Schmuck\": \"5955\", \"Lebensmittel\": \"5830\", \"Spielzeug\": \"10397\", \"Kleidung\": \"6570\", \"Gutscheine\": \"6522\", \"CD-DVD\": \"7644\", \"Elektronik\": \"10158\", \"Sonstige\": \"7023\", \"Grand Total\": \"83839\"}, {\"Datum\": \"10. Jan\", \"Tag\": \"17\", \"S\\u00fcsswaren\": \"9330\", \"B\\u00fccher\": \"5964\", \"Beauty\": \"5852\", \"Parfum\": \"8194\", \"Schmuck\": \"5923\", \"Lebensmittel\": \"7365\", \"Spielzeug\": \"9143\", \"Kleidung\": \"5401\", \"Gutscheine\": \"7873\", \"CD-DVD\": \"1480\", \"Elektronik\": \"3967\", \"Sonstige\": \"8800\", \"Grand Total\": \"79292\"}, {\"Datum\": \"11. Jan\", \"Tag\": \"18\", \"S\\u00fcsswaren\": \"4795\", \"B\\u00fccher\": \"3100\", \"Beauty\": \"3944\", \"Parfum\": \"4721\", \"Schmuck\": \"12935\", \"Lebensmittel\": \"4633\", \"Spielzeug\": \"2618\", \"Kleidung\": \"7438\", \"Gutscheine\": \"7427\", \"CD-DVD\": \"4681\", \"Elektronik\": \"5033\", \"Sonstige\": \"5469\", \"Grand Total\": \"66794\"}, {\"Datum\": \"12. Jan\", \"Tag\": \"19\", \"S\\u00fcsswaren\": \"6608\", \"B\\u00fccher\": \"3198\", \"Beauty\": \"4887\", \"Parfum\": \"3109\", \"Schmuck\": \"1436\", \"Lebensmittel\": \"222\", \"Spielzeug\": \"11153\", \"Kleidung\": \"7442\", \"Gutscheine\": \"14294\", \"CD-DVD\": \"4561\", \"Elektronik\": \"6115\", \"Sonstige\": \"5904\", \"Grand Total\": \"68929\"}, {\"Datum\": \"13. Jan\", \"Tag\": \"20\", \"S\\u00fcsswaren\": \"8149\", \"B\\u00fccher\": \"1842\", \"Beauty\": \"5100\", \"Parfum\": \"7679\", \"Schmuck\": \"5221\", \"Lebensmittel\": \"5591\", \"Spielzeug\": \"5110\", \"Kleidung\": \"5626\", \"Gutscheine\": \"4840\", \"CD-DVD\": \"10657\", \"Elektronik\": \"5358\", \"Sonstige\": \"5191\", \"Grand Total\": \"70364\"}, {\"Datum\": \"14. Jan\", \"Tag\": \"21\", \"S\\u00fcsswaren\": \"1869\", \"B\\u00fccher\": \"1549\", \"Beauty\": \"8113\", \"Parfum\": \"8675\", \"Schmuck\": \"4639\", \"Lebensmittel\": \"9849\", \"Spielzeug\": \"3685\", \"Kleidung\": \"6913\", \"Gutscheine\": \"2323\", \"CD-DVD\": \"4949\", \"Elektronik\": \"4843\", \"Sonstige\": \"9185\", \"Grand Total\": \"66592\"}, {\"Datum\": \"15. Jan\", \"Tag\": \"22\", \"S\\u00fcsswaren\": \"9090\", \"B\\u00fccher\": \"3442\", \"Beauty\": \"5080\", \"Parfum\": \"6128\", \"Schmuck\": \"5955\", \"Lebensmittel\": \"5830\", \"Spielzeug\": \"10397\", \"Kleidung\": \"6570\", \"Gutscheine\": \"6522\", \"CD-DVD\": \"7644\", \"Elektronik\": \"10158\", \"Sonstige\": \"7023\", \"Grand Total\": \"83839\"}, {\"Datum\": \"16. Jan\", \"Tag\": \"23\", \"S\\u00fcsswaren\": \"9330\", \"B\\u00fccher\": \"5964\", \"Beauty\": \"5852\", \"Parfum\": \"8194\", \"Schmuck\": \"5923\", \"Lebensmittel\": \"7365\", \"Spielzeug\": \"9143\", \"Kleidung\": \"5401\", \"Gutscheine\": \"7873\", \"CD-DVD\": \"1480\", \"Elektronik\": \"3967\", \"Sonstige\": \"8800\", \"Grand Total\": \"79292\"}, {\"Datum\": \"17. Jan\", \"Tag\": \"24\", \"S\\u00fcsswaren\": \"4795\", \"B\\u00fccher\": \"3100\", \"Beauty\": \"3944\", \"Parfum\": \"4721\", \"Schmuck\": \"12935\", \"Lebensmittel\": \"4633\", \"Spielzeug\": \"2618\", \"Kleidung\": \"7438\", \"Gutscheine\": \"7427\", \"CD-DVD\": \"4681\", \"Elektronik\": \"5033\", \"Sonstige\": \"5469\", \"Grand Total\": \"66794\"}, {\"Datum\": \"18. Jan\", \"Tag\": \"25\", \"S\\u00fcsswaren\": \"6608\", \"B\\u00fccher\": \"3198\", \"Beauty\": \"4887\", \"Parfum\": \"3109\", \"Schmuck\": \"1436\", \"Lebensmittel\": \"222\", \"Spielzeug\": \"11153\", \"Kleidung\": \"7442\", \"Gutscheine\": \"14294\", \"CD-DVD\": \"4561\", \"Elektronik\": \"6115\", \"Sonstige\": \"5904\", \"Grand Total\": \"68929\"}, {\"Datum\": \"19. Jan\", \"Tag\": \"26\", \"S\\u00fcsswaren\": \"8149\", \"B\\u00fccher\": \"1842\", \"Beauty\": \"5106\", \"Parfum\": \"7679\", \"Schmuck\": \"5221\", \"Lebensmittel\": \"5591\", \"Spielzeug\": \"5110\", \"Kleidung\": \"5626\", \"Gutscheine\": \"4840\", \"CD-DVD\": \"10657\", \"Elektronik\": \"5358\", \"Sonstige\": \"5191\", \"Grand Total\": \"70364\"}, {\"Datum\": \"20. Jan\", \"Tag\": \"27\", \"S\\u00fcsswaren\": \"8100\", \"B\\u00fccher\": \"1800\", \"Beauty\": \"5100\", \"Parfum\": \"7600\", \"Schmuck\": \"5200\", \"Lebensmittel\": \"5500\", \"Spielzeug\": \"5100\", \"Kleidung\": \"5600\", \"Gutscheine\": \"4800\", \"CD-DVD\": \"10600\", \"Elektronik\": \"5300\", \"Sonstige\": \"5100\", \"Grand Total\": \"70300\"}, {\"Datum\": \"21. Jan\", \"Tag\": \"28\", \"S\\u00fcsswaren\": \"34769\", \"B\\u00fccher\": \"18640\", \"Beauty\": \"22860\", \"Parfum\": \"25896\", \"Schmuck\": \"4400\", \"Lebensmittel\": \"23540\", \"Spielzeug\": \"7983\", \"Kleidung\": \"8055\", \"Gutscheine\": \"17208\", \"CD-DVD\": \"6480\", \"Elektronik\": \"18200\", \"Sonstige\": \"1514\", \"Grand Total\": \"189545\"}]\n"
     ]
    }
   ],
   "source": [
    "print(json.dumps(data))"
   ]
  },
  {
   "cell_type": "code",
   "execution_count": null,
   "metadata": {},
   "outputs": [],
   "source": []
  }
 ],
 "metadata": {
  "kernelspec": {
   "display_name": "Python 3 (ipykernel)",
   "language": "python",
   "name": "python3"
  },
  "language_info": {
   "codemirror_mode": {
    "name": "ipython",
    "version": 3
   },
   "file_extension": ".py",
   "mimetype": "text/x-python",
   "name": "python",
   "nbconvert_exporter": "python",
   "pygments_lexer": "ipython3",
   "version": "3.7.12"
  },
  "toc-autonumbering": true,
  "toc-showmarkdowntxt": true
 },
 "nbformat": 4,
 "nbformat_minor": 4
}
